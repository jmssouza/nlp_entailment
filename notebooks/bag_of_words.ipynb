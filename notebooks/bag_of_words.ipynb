{
 "cells": [
  {
   "cell_type": "markdown",
   "id": "8341afac",
   "metadata": {},
   "source": [
    "# Inicializando"
   ]
  },
  {
   "cell_type": "markdown",
   "id": "45be223a",
   "metadata": {},
   "source": [
    "## Carregando bibliotecas e funções de auxílio"
   ]
  },
  {
   "cell_type": "code",
   "execution_count": 134,
   "id": "3985c30d",
   "metadata": {},
   "outputs": [],
   "source": [
    "from sklearn.base import BaseEstimator\n",
    "import pandas as pd\n",
    "import numpy as np\n",
    "import matplotlib.pyplot as plt\n",
    "import seaborn as sns\n",
    "import os\n",
    "import xml.etree.ElementTree as et\n",
    "\n",
    "\n",
    "def parse_xml_to_df(xml_root):\n",
    "    # Cria um dataframe vazio em que as linhas serão concatenadas.\n",
    "    df = pd.DataFrame(columns=['similarity', 't', 'h'])\n",
    "    # Para cada par na root.\n",
    "    for pair in xml_root:\n",
    "        # Recupera o valor de t.\n",
    "        t = pair[0].text\n",
    "        # Recupera o valor de h.\n",
    "        h = pair[1].text\n",
    "        # Recupera o valor da variável target.\n",
    "        is_entailment = pair.attrib['entailment'] == 'Entailment'\n",
    "        # Recupera o valor de similaridade atribuído.\n",
    "        similarity = float(pair.attrib['similarity'])\n",
    "        # Constroi a nova linha.\n",
    "        new_line = pd.DataFrame([{'t': t, 'h': h, 'similarity': similarity, 'is_entailment': is_entailment}])\n",
    "        # Adiciona ao dataframe.\n",
    "        df = pd.concat([df, new_line], ignore_index=True)\n",
    "    return df\n",
    "\n",
    "    \n",
    "class GenericEstimator(BaseEstimator):\n",
    "    \n",
    "    def fit(self): pass\n",
    "    \n",
    "    def score(self): pass"
   ]
  },
  {
   "cell_type": "markdown",
   "id": "affb645f",
   "metadata": {},
   "source": [
    "## Carregando conjuntos de dados"
   ]
  },
  {
   "cell_type": "code",
   "execution_count": 77,
   "id": "8c027b3b",
   "metadata": {},
   "outputs": [],
   "source": [
    "# Recupera o arquivo de entrada de treinamento.\n",
    "train_xml_root = et.parse('../data/assin2-train.xml').getroot()\n",
    "# Cria o dataframe de treinamento.\n",
    "df_train = parse_xml_to_df(train_xml_root)\n",
    "\n",
    "# Recupera o arquivo de entrada de validação.\n",
    "dev_xml_root = et.parse('../data/assin2-dev.xml').getroot()\n",
    "# Cria o dataframe de validação.\n",
    "df_dev = parse_xml_to_df(dev_xml_root)\n",
    "\n",
    "# Recupera o arquivo de entrada de validação.\n",
    "test_xml_root = et.parse('../data/assin2-test.xml').getroot()\n",
    "df_test = parse_xml_to_df(test_xml_root)"
   ]
  },
  {
   "cell_type": "code",
   "execution_count": 78,
   "id": "5e341738",
   "metadata": {},
   "outputs": [
    {
     "name": "stdout",
     "output_type": "stream",
     "text": [
      "Shape de treinamento: (6500, 4)\n",
      "Shape de validação: (500, 4)\n",
      "Shape de teste: (2448, 4)\n"
     ]
    }
   ],
   "source": [
    "print('Shape de treinamento:', df_train.shape)\n",
    "print('Shape de validação:', df_dev.shape)\n",
    "print('Shape de teste:', df_test.shape)"
   ]
  },
  {
   "cell_type": "markdown",
   "id": "08697b99",
   "metadata": {},
   "source": [
    "## Transformação dos dados"
   ]
  },
  {
   "cell_type": "code",
   "execution_count": 93,
   "id": "b0f8f814",
   "metadata": {},
   "outputs": [],
   "source": [
    "# Criando uma coluna que concatena as duas frases em uma nas bases de dados.\n",
    "df_train['t_h'] = df_train['t'] + ' ' + df_train['h']  \n",
    "df_dev['t_h'] = df_dev['t'] + ' ' + df_dev['h']  \n",
    "df_test['t_h'] = df_test['t'] + ' ' + df_test['h']  "
   ]
  },
  {
   "cell_type": "markdown",
   "id": "fdbbc9e5",
   "metadata": {},
   "source": [
    "# Modelagem"
   ]
  },
  {
   "cell_type": "markdown",
   "id": "051af4a8",
   "metadata": {},
   "source": [
    "## Abordagem 1: concatenando ambas as frases em uma única frase"
   ]
  },
  {
   "cell_type": "code",
   "execution_count": 143,
   "id": "42041580",
   "metadata": {},
   "outputs": [
    {
     "name": "stdout",
     "output_type": "stream",
     "text": [
      "Shape de treinamento: (6500, 2310) (6500,)\n",
      "Shape de validação: (500, 2310) (500,)\n",
      "Shape de teste: (2448, 2310) (2448,)\n"
     ]
    }
   ],
   "source": [
    "from sklearn.feature_extraction.text import CountVectorizer\n",
    "\n",
    "# Instancia um objeto para realizar o bag of words.\n",
    "vectorizer = CountVectorizer()\n",
    "# Ajusta o BoW no conjunto de treinamento.\n",
    "vectorizer.fit(df_train['t_h'])\n",
    "\n",
    "# Vetorizando o conjunto de treinamento.\n",
    "df_train_vec = pd.DataFrame(vectorizer.transform(df_train['t_h']).toarray(), columns=vectorizer.get_feature_names_out())\n",
    "df_train_vec['is_entailment'] = df_train['is_entailment']\n",
    "\n",
    "# Vetorizando o conjunto de validação.\n",
    "df_dev_vec = pd.DataFrame(vectorizer.transform(df_dev['t_h']).toarray(), columns=vectorizer.get_feature_names_out())\n",
    "df_dev_vec['is_entailment'] = df_dev['is_entailment']\n",
    "\n",
    "# Vetorizando o conjunto de validação.\n",
    "df_test_vec = pd.DataFrame(vectorizer.transform(df_test['t_h']).toarray(), columns=vectorizer.get_feature_names_out())\n",
    "df_test_vec['is_entailment'] = df_test['is_entailment']\n",
    "\n",
    "X_train, y_train = df_train_vec.drop(columns='is_entailment'), df_train_vec['is_entailment'].astype(int)\n",
    "X_dev, y_dev = df_dev_vec.drop(columns='is_entailment'), df_dev_vec['is_entailment'].astype(int)\n",
    "X_test, y_test = df_test_vec.drop(columns='is_entailment'), df_test_vec['is_entailment'].astype(int)\n",
    "\n",
    "print('Shape de treinamento:', X_train.shape, y_train.shape)\n",
    "print('Shape de validação:', X_dev.shape, y_dev.shape)\n",
    "print('Shape de teste:', X_test.shape, y_test.shape)"
   ]
  },
  {
   "cell_type": "code",
   "execution_count": 169,
   "id": "5721a322",
   "metadata": {
    "scrolled": false
   },
   "outputs": [
    {
     "name": "stdout",
     "output_type": "stream",
     "text": [
      "Fitting 5 folds for each of 23 candidates, totalling 115 fits\n"
     ]
    },
    {
     "name": "stderr",
     "output_type": "stream",
     "text": [
      "C:\\Users\\Windows\\Documents\\virtualenvs\\phd-env\\Lib\\site-packages\\sklearn\\model_selection\\_validation.py:378: FitFailedWarning: \n",
      "50 fits failed out of a total of 115.\n",
      "The score on these train-test partitions for these parameters will be set to nan.\n",
      "If these failures are not expected, you can try to debug them by setting error_score='raise'.\n",
      "\n",
      "Below are more details about the failures:\n",
      "--------------------------------------------------------------------------------\n",
      "50 fits failed with the following error:\n",
      "Traceback (most recent call last):\n",
      "  File \"C:\\Users\\Windows\\Documents\\virtualenvs\\phd-env\\Lib\\site-packages\\sklearn\\model_selection\\_validation.py\", line 686, in _fit_and_score\n",
      "    estimator.fit(X_train, y_train, **fit_params)\n",
      "  File \"C:\\Users\\Windows\\Documents\\virtualenvs\\phd-env\\Lib\\site-packages\\sklearn\\pipeline.py\", line 405, in fit\n",
      "    self._final_estimator.fit(Xt, y, **fit_params_last_step)\n",
      "  File \"C:\\Users\\Windows\\Documents\\virtualenvs\\phd-env\\Lib\\site-packages\\sklearn\\linear_model\\_logistic.py\", line 1162, in fit\n",
      "    solver = _check_solver(self.solver, self.penalty, self.dual)\n",
      "             ^^^^^^^^^^^^^^^^^^^^^^^^^^^^^^^^^^^^^^^^^^^^^^^^^^^\n",
      "  File \"C:\\Users\\Windows\\Documents\\virtualenvs\\phd-env\\Lib\\site-packages\\sklearn\\linear_model\\_logistic.py\", line 54, in _check_solver\n",
      "    raise ValueError(\n",
      "ValueError: Solver lbfgs supports only 'l2' or 'none' penalties, got l1 penalty.\n",
      "\n",
      "  warnings.warn(some_fits_failed_message, FitFailedWarning)\n",
      "C:\\Users\\Windows\\Documents\\virtualenvs\\phd-env\\Lib\\site-packages\\sklearn\\model_selection\\_search.py:952: UserWarning: One or more of the test scores are non-finite: [       nan 0.45693973        nan 0.46558876        nan 0.46930664\n",
      "        nan 0.47054872        nan 0.47154401        nan 0.47372941\n",
      "        nan 0.47254273        nan 0.4735947         nan 0.4731722\n",
      "        nan 0.47397429 0.14476671 0.38236899 0.24297399]\n",
      "  warnings.warn(\n"
     ]
    },
    {
     "name": "stdout",
     "output_type": "stream",
     "text": [
      "------------------------------------------------------------\n",
      "Resultados\n",
      "------------------------------------------------------------\n",
      "Treinamento:\n",
      "              precision    recall  f1-score   support\n",
      "\n",
      "           0       0.89      0.87      0.88      3250\n",
      "           1       0.88      0.89      0.88      3250\n",
      "\n",
      "    accuracy                           0.88      6500\n",
      "   macro avg       0.88      0.88      0.88      6500\n",
      "weighted avg       0.88      0.88      0.88      6500\n",
      "\n",
      "------------------------------------------------------------\n",
      "Validação:\n",
      "              precision    recall  f1-score   support\n",
      "\n",
      "           0       0.79      0.81      0.80       250\n",
      "           1       0.81      0.79      0.80       250\n",
      "\n",
      "    accuracy                           0.80       500\n",
      "   macro avg       0.80      0.80      0.80       500\n",
      "weighted avg       0.80      0.80      0.80       500\n",
      "\n",
      "------------------------------------------------------------\n",
      "Teste:\n",
      "              precision    recall  f1-score   support\n",
      "\n",
      "           0       0.73      0.37      0.49      1224\n",
      "           1       0.58      0.87      0.69      1224\n",
      "\n",
      "    accuracy                           0.62      2448\n",
      "   macro avg       0.66      0.62      0.59      2448\n",
      "weighted avg       0.66      0.62      0.59      2448\n",
      "\n",
      "------------------------------------------------------------\n"
     ]
    },
    {
     "name": "stderr",
     "output_type": "stream",
     "text": [
      "C:\\Users\\Windows\\Documents\\virtualenvs\\phd-env\\Lib\\site-packages\\sklearn\\linear_model\\_logistic.py:458: ConvergenceWarning: lbfgs failed to converge (status=1):\n",
      "STOP: TOTAL NO. of ITERATIONS REACHED LIMIT.\n",
      "\n",
      "Increase the number of iterations (max_iter) or scale the data as shown in:\n",
      "    https://scikit-learn.org/stable/modules/preprocessing.html\n",
      "Please also refer to the documentation for alternative solver options:\n",
      "    https://scikit-learn.org/stable/modules/linear_model.html#logistic-regression\n",
      "  n_iter_i = _check_optimize_result(\n"
     ]
    }
   ],
   "source": [
    "from sklearn.model_selection import GridSearchCV\n",
    "from sklearn.ensemble import RandomForestClassifier\n",
    "from sklearn.linear_model import LogisticRegression\n",
    "from sklearn.pipeline import Pipeline\n",
    "from sklearn.metrics import classification_report\n",
    "\n",
    "        \n",
    "# Cria o pipeline de transformação.\n",
    "pipe = Pipeline([('clf', GenericEstimator())])\n",
    "\n",
    "# Define um espaço de busca com diferentes algoritmos.\n",
    "search_space = [\n",
    "\n",
    "    {'clf': [LogisticRegression()],\n",
    "     'clf__penalty': ['l1', 'l2'],\n",
    "     'clf__C': np.logspace(0, 4, 10)},\n",
    "    \n",
    "    {'clf': [RandomForestClassifier()],\n",
    "     'clf__n_estimators': [150],\n",
    "     'clf__max_depth': [2, 20, 10]},\n",
    "\n",
    "]\n",
    "    \n",
    "# Cria um objeto de busca em grid com semente setada para reprodutibilidade.    \n",
    "grid = GridSearchCV(\n",
    "    pipe,\n",
    "    search_space, \n",
    "    n_jobs=10,\n",
    "    cv=5,\n",
    "    scoring='f1',\n",
    "    verbose=10\n",
    ")\n",
    "\n",
    "# Ajusta no conjunto de treinamento.\n",
    "grid.fit(X_train, y_train)\n",
    "\n",
    "df_training_results = pd.DataFrame(grid.cv_results_)[['params', 'mean_test_score', 'std_test_score']]\n",
    "\n",
    "print('-' * 60)\n",
    "print('Resultados')\n",
    "print('-' * 60)\n",
    "print('Treinamento:')\n",
    "print(classification_report(y_train, grid.predict(X_train)))\n",
    "print('-' * 60)\n",
    "print('Validação:')\n",
    "print(classification_report(y_dev, grid.predict(X_dev)))\n",
    "print('-' * 60)\n",
    "print('Teste:')\n",
    "print(classification_report(y_test, grid.predict(X_test)))\n",
    "print('-' * 60)"
   ]
  }
 ],
 "metadata": {
  "kernelspec": {
   "display_name": "Python 3 (ipykernel)",
   "language": "python",
   "name": "python3"
  },
  "language_info": {
   "codemirror_mode": {
    "name": "ipython",
    "version": 3
   },
   "file_extension": ".py",
   "mimetype": "text/x-python",
   "name": "python",
   "nbconvert_exporter": "python",
   "pygments_lexer": "ipython3",
   "version": "3.11.3"
  }
 },
 "nbformat": 4,
 "nbformat_minor": 5
}
