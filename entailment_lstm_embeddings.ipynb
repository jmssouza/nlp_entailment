{
  "nbformat": 4,
  "nbformat_minor": 0,
  "metadata": {
    "colab": {
      "provenance": []
    },
    "kernelspec": {
      "name": "python3",
      "display_name": "Python 3"
    },
    "language_info": {
      "name": "python"
    },
    "accelerator": "GPU",
    "gpuClass": "standard"
  },
  "cells": [
    {
      "cell_type": "code",
      "source": [
        "!gdown --id 1Q9j1a83CuKzsHCGaNulSkNxBm7Dkn7Ln"
      ],
      "metadata": {
        "colab": {
          "base_uri": "https://localhost:8080/"
        },
        "id": "wRyHzc5peHGb",
        "outputId": "7ae61829-c2c1-488d-ebf2-adc273ebea43"
      },
      "execution_count": 1,
      "outputs": [
        {
          "output_type": "stream",
          "name": "stdout",
          "text": [
            "/usr/local/lib/python3.10/dist-packages/gdown/cli.py:121: FutureWarning: Option `--id` was deprecated in version 4.3.1 and will be removed in 5.0. You don't need to pass it anymore to use a file ID.\n",
            "  warnings.warn(\n",
            "Downloading...\n",
            "From: https://drive.google.com/uc?id=1Q9j1a83CuKzsHCGaNulSkNxBm7Dkn7Ln\n",
            "To: /content/assin2-train-only.xml\n",
            "100% 1.51M/1.51M [00:00<00:00, 167MB/s]\n"
          ]
        }
      ]
    },
    {
      "cell_type": "code",
      "source": [
        "!gdown --id 1kb7xq6Mb3eaqe9cOAo70BaG9ypwkIqEU\n",
        "!gdown --id 1J3FpQaHxpM-FDfBUyooh-sZF-B-bM_lU"
      ],
      "metadata": {
        "colab": {
          "base_uri": "https://localhost:8080/"
        },
        "id": "kz3zjEyb45vt",
        "outputId": "b5e0463a-c977-4a1c-d184-0a49b8ad640f"
      },
      "execution_count": 2,
      "outputs": [
        {
          "output_type": "stream",
          "name": "stdout",
          "text": [
            "/usr/local/lib/python3.10/dist-packages/gdown/cli.py:121: FutureWarning: Option `--id` was deprecated in version 4.3.1 and will be removed in 5.0. You don't need to pass it anymore to use a file ID.\n",
            "  warnings.warn(\n",
            "Downloading...\n",
            "From: https://drive.google.com/uc?id=1kb7xq6Mb3eaqe9cOAo70BaG9ypwkIqEU\n",
            "To: /content/assin2-dev.xml\n",
            "100% 116k/116k [00:00<00:00, 121MB/s]\n",
            "/usr/local/lib/python3.10/dist-packages/gdown/cli.py:121: FutureWarning: Option `--id` was deprecated in version 4.3.1 and will be removed in 5.0. You don't need to pass it anymore to use a file ID.\n",
            "  warnings.warn(\n",
            "Downloading...\n",
            "From: https://drive.google.com/uc?id=1J3FpQaHxpM-FDfBUyooh-sZF-B-bM_lU\n",
            "To: /content/assin2-test.xml\n",
            "100% 493k/493k [00:00<00:00, 176MB/s]\n"
          ]
        }
      ]
    },
    {
      "cell_type": "code",
      "execution_count": 3,
      "metadata": {
        "id": "SAHCKTu_SNm5"
      },
      "outputs": [],
      "source": [
        "import pandas as pd"
      ]
    },
    {
      "cell_type": "code",
      "source": [
        "df_train = pd.read_xml('assin2-train-only.xml')\n",
        "df_train = df_train.drop(columns=['id', 'similarity'])\n",
        "df_train.head()"
      ],
      "metadata": {
        "colab": {
          "base_uri": "https://localhost:8080/",
          "height": 206
        },
        "id": "ccPsxIOIUYDl",
        "outputId": "3437c3aa-2d19-4df6-c8a8-71762f7ec845"
      },
      "execution_count": 4,
      "outputs": [
        {
          "output_type": "execute_result",
          "data": {
            "text/plain": [
              "   entailment                                                  t  \\\n",
              "0  Entailment  Uma criança risonha está segurando uma pistola...   \n",
              "1  Entailment  Os homens estão cuidadosamente colocando as ma...   \n",
              "2  Entailment  Uma pessoa tem cabelo loiro e esvoaçante e est...   \n",
              "3  Entailment          Batatas estão sendo fatiadas por um homem   \n",
              "4  Entailment     Um caminhão está descendo rapidamente um morro   \n",
              "\n",
              "                                                   h  \n",
              "0     Uma criança está segurando uma pistola de água  \n",
              "1  Os homens estão colocando bagagens dentro do p...  \n",
              "2       Um guitarrista tem cabelo loiro e esvoaçante  \n",
              "3                     O homem está fatiando a batata  \n",
              "4      Um caminhão está rapidamente descendo o morro  "
            ],
            "text/html": [
              "\n",
              "  <div id=\"df-1bbf84b6-c60f-48b5-96a8-c0f71547abd5\">\n",
              "    <div class=\"colab-df-container\">\n",
              "      <div>\n",
              "<style scoped>\n",
              "    .dataframe tbody tr th:only-of-type {\n",
              "        vertical-align: middle;\n",
              "    }\n",
              "\n",
              "    .dataframe tbody tr th {\n",
              "        vertical-align: top;\n",
              "    }\n",
              "\n",
              "    .dataframe thead th {\n",
              "        text-align: right;\n",
              "    }\n",
              "</style>\n",
              "<table border=\"1\" class=\"dataframe\">\n",
              "  <thead>\n",
              "    <tr style=\"text-align: right;\">\n",
              "      <th></th>\n",
              "      <th>entailment</th>\n",
              "      <th>t</th>\n",
              "      <th>h</th>\n",
              "    </tr>\n",
              "  </thead>\n",
              "  <tbody>\n",
              "    <tr>\n",
              "      <th>0</th>\n",
              "      <td>Entailment</td>\n",
              "      <td>Uma criança risonha está segurando uma pistola...</td>\n",
              "      <td>Uma criança está segurando uma pistola de água</td>\n",
              "    </tr>\n",
              "    <tr>\n",
              "      <th>1</th>\n",
              "      <td>Entailment</td>\n",
              "      <td>Os homens estão cuidadosamente colocando as ma...</td>\n",
              "      <td>Os homens estão colocando bagagens dentro do p...</td>\n",
              "    </tr>\n",
              "    <tr>\n",
              "      <th>2</th>\n",
              "      <td>Entailment</td>\n",
              "      <td>Uma pessoa tem cabelo loiro e esvoaçante e est...</td>\n",
              "      <td>Um guitarrista tem cabelo loiro e esvoaçante</td>\n",
              "    </tr>\n",
              "    <tr>\n",
              "      <th>3</th>\n",
              "      <td>Entailment</td>\n",
              "      <td>Batatas estão sendo fatiadas por um homem</td>\n",
              "      <td>O homem está fatiando a batata</td>\n",
              "    </tr>\n",
              "    <tr>\n",
              "      <th>4</th>\n",
              "      <td>Entailment</td>\n",
              "      <td>Um caminhão está descendo rapidamente um morro</td>\n",
              "      <td>Um caminhão está rapidamente descendo o morro</td>\n",
              "    </tr>\n",
              "  </tbody>\n",
              "</table>\n",
              "</div>\n",
              "      <button class=\"colab-df-convert\" onclick=\"convertToInteractive('df-1bbf84b6-c60f-48b5-96a8-c0f71547abd5')\"\n",
              "              title=\"Convert this dataframe to an interactive table.\"\n",
              "              style=\"display:none;\">\n",
              "        \n",
              "  <svg xmlns=\"http://www.w3.org/2000/svg\" height=\"24px\"viewBox=\"0 0 24 24\"\n",
              "       width=\"24px\">\n",
              "    <path d=\"M0 0h24v24H0V0z\" fill=\"none\"/>\n",
              "    <path d=\"M18.56 5.44l.94 2.06.94-2.06 2.06-.94-2.06-.94-.94-2.06-.94 2.06-2.06.94zm-11 1L8.5 8.5l.94-2.06 2.06-.94-2.06-.94L8.5 2.5l-.94 2.06-2.06.94zm10 10l.94 2.06.94-2.06 2.06-.94-2.06-.94-.94-2.06-.94 2.06-2.06.94z\"/><path d=\"M17.41 7.96l-1.37-1.37c-.4-.4-.92-.59-1.43-.59-.52 0-1.04.2-1.43.59L10.3 9.45l-7.72 7.72c-.78.78-.78 2.05 0 2.83L4 21.41c.39.39.9.59 1.41.59.51 0 1.02-.2 1.41-.59l7.78-7.78 2.81-2.81c.8-.78.8-2.07 0-2.86zM5.41 20L4 18.59l7.72-7.72 1.47 1.35L5.41 20z\"/>\n",
              "  </svg>\n",
              "      </button>\n",
              "      \n",
              "  <style>\n",
              "    .colab-df-container {\n",
              "      display:flex;\n",
              "      flex-wrap:wrap;\n",
              "      gap: 12px;\n",
              "    }\n",
              "\n",
              "    .colab-df-convert {\n",
              "      background-color: #E8F0FE;\n",
              "      border: none;\n",
              "      border-radius: 50%;\n",
              "      cursor: pointer;\n",
              "      display: none;\n",
              "      fill: #1967D2;\n",
              "      height: 32px;\n",
              "      padding: 0 0 0 0;\n",
              "      width: 32px;\n",
              "    }\n",
              "\n",
              "    .colab-df-convert:hover {\n",
              "      background-color: #E2EBFA;\n",
              "      box-shadow: 0px 1px 2px rgba(60, 64, 67, 0.3), 0px 1px 3px 1px rgba(60, 64, 67, 0.15);\n",
              "      fill: #174EA6;\n",
              "    }\n",
              "\n",
              "    [theme=dark] .colab-df-convert {\n",
              "      background-color: #3B4455;\n",
              "      fill: #D2E3FC;\n",
              "    }\n",
              "\n",
              "    [theme=dark] .colab-df-convert:hover {\n",
              "      background-color: #434B5C;\n",
              "      box-shadow: 0px 1px 3px 1px rgba(0, 0, 0, 0.15);\n",
              "      filter: drop-shadow(0px 1px 2px rgba(0, 0, 0, 0.3));\n",
              "      fill: #FFFFFF;\n",
              "    }\n",
              "  </style>\n",
              "\n",
              "      <script>\n",
              "        const buttonEl =\n",
              "          document.querySelector('#df-1bbf84b6-c60f-48b5-96a8-c0f71547abd5 button.colab-df-convert');\n",
              "        buttonEl.style.display =\n",
              "          google.colab.kernel.accessAllowed ? 'block' : 'none';\n",
              "\n",
              "        async function convertToInteractive(key) {\n",
              "          const element = document.querySelector('#df-1bbf84b6-c60f-48b5-96a8-c0f71547abd5');\n",
              "          const dataTable =\n",
              "            await google.colab.kernel.invokeFunction('convertToInteractive',\n",
              "                                                     [key], {});\n",
              "          if (!dataTable) return;\n",
              "\n",
              "          const docLinkHtml = 'Like what you see? Visit the ' +\n",
              "            '<a target=\"_blank\" href=https://colab.research.google.com/notebooks/data_table.ipynb>data table notebook</a>'\n",
              "            + ' to learn more about interactive tables.';\n",
              "          element.innerHTML = '';\n",
              "          dataTable['output_type'] = 'display_data';\n",
              "          await google.colab.output.renderOutput(dataTable, element);\n",
              "          const docLink = document.createElement('div');\n",
              "          docLink.innerHTML = docLinkHtml;\n",
              "          element.appendChild(docLink);\n",
              "        }\n",
              "      </script>\n",
              "    </div>\n",
              "  </div>\n",
              "  "
            ]
          },
          "metadata": {},
          "execution_count": 4
        }
      ]
    },
    {
      "cell_type": "code",
      "source": [
        "df_val = pd.read_xml('assin2-dev.xml')\n",
        "df_val = df_val.drop(columns=['id', 'similarity'])\n",
        "df_test = pd.read_xml('assin2-test.xml')\n",
        "df_test = df_test.drop(columns=['id', 'similarity'])"
      ],
      "metadata": {
        "id": "6PxP93NTUd6Q"
      },
      "execution_count": 5,
      "outputs": []
    },
    {
      "cell_type": "code",
      "source": [
        "from gensim.models import KeyedVectors"
      ],
      "metadata": {
        "id": "VPuA-D0sVKxb"
      },
      "execution_count": 6,
      "outputs": []
    },
    {
      "cell_type": "code",
      "source": [
        "!wget -c http://143.107.183.175:22980/download.php?file=embeddings/fasttext/cbow_s50.zip -O fasttext_cbow_s50.zip"
      ],
      "metadata": {
        "colab": {
          "base_uri": "https://localhost:8080/"
        },
        "id": "Pt5dMxnxWwOJ",
        "outputId": "52bae5d6-ef44-4724-a5b7-1eb8490a8649"
      },
      "execution_count": 7,
      "outputs": [
        {
          "output_type": "stream",
          "name": "stdout",
          "text": [
            "--2023-05-02 23:55:59--  http://143.107.183.175:22980/download.php?file=embeddings/fasttext/cbow_s50.zip\n",
            "Connecting to 143.107.183.175:22980... connected.\n",
            "HTTP request sent, awaiting response... 200 OK\n",
            "Length: 157365622 (150M) [application/octet-stream]\n",
            "Saving to: ‘fasttext_cbow_s50.zip’\n",
            "\n",
            "fasttext_cbow_s50.z 100%[===================>] 150.08M  11.2MB/s    in 14s     \n",
            "\n",
            "2023-05-02 23:56:14 (10.4 MB/s) - ‘fasttext_cbow_s50.zip’ saved [157365622/157365622]\n",
            "\n"
          ]
        }
      ]
    },
    {
      "cell_type": "code",
      "source": [
        "!unzip fasttext_cbow_s50.zip"
      ],
      "metadata": {
        "colab": {
          "base_uri": "https://localhost:8080/"
        },
        "id": "KpqWeOe5XccG",
        "outputId": "4adaf905-57da-4174-e022-cb6e57701224"
      },
      "execution_count": 8,
      "outputs": [
        {
          "output_type": "stream",
          "name": "stdout",
          "text": [
            "Archive:  fasttext_cbow_s50.zip\n",
            "  inflating: cbow_s50.txt            \n"
          ]
        }
      ]
    },
    {
      "cell_type": "code",
      "source": [
        "gensim_vectors = KeyedVectors.load_word2vec_format('cbow_s50.txt')"
      ],
      "metadata": {
        "id": "FIsHUwK2V9pd"
      },
      "execution_count": 9,
      "outputs": []
    },
    {
      "cell_type": "code",
      "source": [
        "import nltk\n",
        "nltk.download('punkt')"
      ],
      "metadata": {
        "colab": {
          "base_uri": "https://localhost:8080/"
        },
        "id": "WUG30zEfbO6x",
        "outputId": "8025efe8-19e4-4a54-e859-f6b8d4eee4cf"
      },
      "execution_count": 10,
      "outputs": [
        {
          "output_type": "stream",
          "name": "stderr",
          "text": [
            "[nltk_data] Downloading package punkt to /root/nltk_data...\n",
            "[nltk_data]   Unzipping tokenizers/punkt.zip.\n"
          ]
        },
        {
          "output_type": "execute_result",
          "data": {
            "text/plain": [
              "True"
            ]
          },
          "metadata": {},
          "execution_count": 10
        }
      ]
    },
    {
      "cell_type": "code",
      "source": [
        "import re\n",
        "\n",
        "sent_tokenizer = nltk.data.load('tokenizers/punkt/portuguese.pickle')\n",
        "\n",
        "# Punctuation list\n",
        "punctuations = re.escape('!\"#%\\'()*+,./:;<=>?@[\\\\]^_`{|}~')\n",
        "\n",
        "# ##### #\n",
        "# Regex #\n",
        "# ##### #\n",
        "re_remove_brackets = re.compile(r'\\{.*\\}')\n",
        "re_remove_html = re.compile(r'<(\\/|\\\\)?.+?>', re.UNICODE)\n",
        "re_transform_numbers = re.compile(r'\\d', re.UNICODE)\n",
        "re_transform_emails = re.compile(r'[^\\s]+@[^\\s]+', re.UNICODE)\n",
        "re_transform_url = re.compile(r'(http|https)://[^\\s]+', re.UNICODE)\n",
        "# Different quotes are used.\n",
        "re_quotes_1 = re.compile(r\"(?u)(^|\\W)[‘’′`']\", re.UNICODE)\n",
        "re_quotes_2 = re.compile(r\"(?u)[‘’`′'](\\W|$)\", re.UNICODE)\n",
        "re_quotes_3 = re.compile(r'(?u)[‘’`′“”]', re.UNICODE)\n",
        "re_dots = re.compile(r'(?<!\\.)\\.\\.(?!\\.)', re.UNICODE)\n",
        "re_punctuation = re.compile(r'([,\";:]){2},', re.UNICODE)\n",
        "re_hiphen = re.compile(r' -(?=[^\\W\\d_])', re.UNICODE)\n",
        "re_tree_dots = re.compile(u'…', re.UNICODE)\n",
        "# Differents punctuation patterns are used.\n",
        "re_punkts = re.compile(r'(\\w+)([%s])([ %s])' %\n",
        "                       (punctuations, punctuations), re.UNICODE)\n",
        "re_punkts_b = re.compile(r'([ %s])([%s])(\\w+)' %\n",
        "                         (punctuations, punctuations), re.UNICODE)\n",
        "re_punkts_c = re.compile(r'(\\w+)([%s])$' % (punctuations), re.UNICODE)\n",
        "re_changehyphen = re.compile(u'–')\n",
        "re_doublequotes_1 = re.compile(r'(\\\"\\\")')\n",
        "re_doublequotes_2 = re.compile(r'(\\'\\')')\n",
        "re_trim = re.compile(r' +', re.UNICODE)"
      ],
      "metadata": {
        "id": "kfYDwt_gXSsS"
      },
      "execution_count": 11,
      "outputs": []
    },
    {
      "cell_type": "code",
      "source": [
        "def clean_text(text):\n",
        "    \"\"\"Apply all regex above to a given string.\"\"\"\n",
        "    text = text.lower()\n",
        "    text = text.replace('\\xa0', ' ')\n",
        "    text = re_tree_dots.sub('...', text)\n",
        "    text = re.sub('\\.\\.\\.', '', text)\n",
        "    text = re_remove_brackets.sub('', text)\n",
        "    text = re_changehyphen.sub('-', text)\n",
        "    text = re_remove_html.sub(' ', text)\n",
        "    text = re_transform_numbers.sub('0', text)\n",
        "    text = re_transform_url.sub('URL', text)\n",
        "    text = re_transform_emails.sub('EMAIL', text)\n",
        "    text = re_quotes_1.sub(r'\\1\"', text)\n",
        "    text = re_quotes_2.sub(r'\"\\1', text)\n",
        "    text = re_quotes_3.sub('\"', text)\n",
        "    text = re.sub('\"', '', text)\n",
        "    text = re_dots.sub('.', text)\n",
        "    text = re_punctuation.sub(r'\\1', text)\n",
        "    text = re_hiphen.sub(' - ', text)\n",
        "    text = re_punkts.sub(r'\\1 \\2 \\3', text)\n",
        "    text = re_punkts_b.sub(r'\\1 \\2 \\3', text)\n",
        "    text = re_punkts_c.sub(r'\\1 \\2', text)\n",
        "    text = re_doublequotes_1.sub('\\\"', text)\n",
        "    text = re_doublequotes_2.sub('\\'', text)\n",
        "    text = re_trim.sub(' ', text)\n",
        "    return text.strip()"
      ],
      "metadata": {
        "id": "zu-8BuNybKBL"
      },
      "execution_count": 12,
      "outputs": []
    },
    {
      "cell_type": "code",
      "source": [
        "def text_preprocessing(df, col_name):\n",
        "    df[col_name] = df[col_name].apply(lambda x: clean_text(x))\n",
        "    return df"
      ],
      "metadata": {
        "id": "7YXLLKr4bciY"
      },
      "execution_count": 13,
      "outputs": []
    },
    {
      "cell_type": "code",
      "source": [
        "df_cleaned_train = text_preprocessing(df_train, 't')\n",
        "df_cleaned_train = text_preprocessing(df_cleaned_train, 'h')\n",
        "df_cleaned_train.head()"
      ],
      "metadata": {
        "colab": {
          "base_uri": "https://localhost:8080/",
          "height": 206
        },
        "id": "1qgg0bombwaQ",
        "outputId": "356aeb4d-baa4-4cd0-e216-585b09fa6c4a"
      },
      "execution_count": 14,
      "outputs": [
        {
          "output_type": "execute_result",
          "data": {
            "text/plain": [
              "   entailment                                                  t  \\\n",
              "0  Entailment  uma criança risonha está segurando uma pistola...   \n",
              "1  Entailment  os homens estão cuidadosamente colocando as ma...   \n",
              "2  Entailment  uma pessoa tem cabelo loiro e esvoaçante e est...   \n",
              "3  Entailment          batatas estão sendo fatiadas por um homem   \n",
              "4  Entailment     um caminhão está descendo rapidamente um morro   \n",
              "\n",
              "                                                   h  \n",
              "0     uma criança está segurando uma pistola de água  \n",
              "1  os homens estão colocando bagagens dentro do p...  \n",
              "2       um guitarrista tem cabelo loiro e esvoaçante  \n",
              "3                     o homem está fatiando a batata  \n",
              "4      um caminhão está rapidamente descendo o morro  "
            ],
            "text/html": [
              "\n",
              "  <div id=\"df-2c6f3d39-5fc9-4bdc-bc89-d8d5caf40eb2\">\n",
              "    <div class=\"colab-df-container\">\n",
              "      <div>\n",
              "<style scoped>\n",
              "    .dataframe tbody tr th:only-of-type {\n",
              "        vertical-align: middle;\n",
              "    }\n",
              "\n",
              "    .dataframe tbody tr th {\n",
              "        vertical-align: top;\n",
              "    }\n",
              "\n",
              "    .dataframe thead th {\n",
              "        text-align: right;\n",
              "    }\n",
              "</style>\n",
              "<table border=\"1\" class=\"dataframe\">\n",
              "  <thead>\n",
              "    <tr style=\"text-align: right;\">\n",
              "      <th></th>\n",
              "      <th>entailment</th>\n",
              "      <th>t</th>\n",
              "      <th>h</th>\n",
              "    </tr>\n",
              "  </thead>\n",
              "  <tbody>\n",
              "    <tr>\n",
              "      <th>0</th>\n",
              "      <td>Entailment</td>\n",
              "      <td>uma criança risonha está segurando uma pistola...</td>\n",
              "      <td>uma criança está segurando uma pistola de água</td>\n",
              "    </tr>\n",
              "    <tr>\n",
              "      <th>1</th>\n",
              "      <td>Entailment</td>\n",
              "      <td>os homens estão cuidadosamente colocando as ma...</td>\n",
              "      <td>os homens estão colocando bagagens dentro do p...</td>\n",
              "    </tr>\n",
              "    <tr>\n",
              "      <th>2</th>\n",
              "      <td>Entailment</td>\n",
              "      <td>uma pessoa tem cabelo loiro e esvoaçante e est...</td>\n",
              "      <td>um guitarrista tem cabelo loiro e esvoaçante</td>\n",
              "    </tr>\n",
              "    <tr>\n",
              "      <th>3</th>\n",
              "      <td>Entailment</td>\n",
              "      <td>batatas estão sendo fatiadas por um homem</td>\n",
              "      <td>o homem está fatiando a batata</td>\n",
              "    </tr>\n",
              "    <tr>\n",
              "      <th>4</th>\n",
              "      <td>Entailment</td>\n",
              "      <td>um caminhão está descendo rapidamente um morro</td>\n",
              "      <td>um caminhão está rapidamente descendo o morro</td>\n",
              "    </tr>\n",
              "  </tbody>\n",
              "</table>\n",
              "</div>\n",
              "      <button class=\"colab-df-convert\" onclick=\"convertToInteractive('df-2c6f3d39-5fc9-4bdc-bc89-d8d5caf40eb2')\"\n",
              "              title=\"Convert this dataframe to an interactive table.\"\n",
              "              style=\"display:none;\">\n",
              "        \n",
              "  <svg xmlns=\"http://www.w3.org/2000/svg\" height=\"24px\"viewBox=\"0 0 24 24\"\n",
              "       width=\"24px\">\n",
              "    <path d=\"M0 0h24v24H0V0z\" fill=\"none\"/>\n",
              "    <path d=\"M18.56 5.44l.94 2.06.94-2.06 2.06-.94-2.06-.94-.94-2.06-.94 2.06-2.06.94zm-11 1L8.5 8.5l.94-2.06 2.06-.94-2.06-.94L8.5 2.5l-.94 2.06-2.06.94zm10 10l.94 2.06.94-2.06 2.06-.94-2.06-.94-.94-2.06-.94 2.06-2.06.94z\"/><path d=\"M17.41 7.96l-1.37-1.37c-.4-.4-.92-.59-1.43-.59-.52 0-1.04.2-1.43.59L10.3 9.45l-7.72 7.72c-.78.78-.78 2.05 0 2.83L4 21.41c.39.39.9.59 1.41.59.51 0 1.02-.2 1.41-.59l7.78-7.78 2.81-2.81c.8-.78.8-2.07 0-2.86zM5.41 20L4 18.59l7.72-7.72 1.47 1.35L5.41 20z\"/>\n",
              "  </svg>\n",
              "      </button>\n",
              "      \n",
              "  <style>\n",
              "    .colab-df-container {\n",
              "      display:flex;\n",
              "      flex-wrap:wrap;\n",
              "      gap: 12px;\n",
              "    }\n",
              "\n",
              "    .colab-df-convert {\n",
              "      background-color: #E8F0FE;\n",
              "      border: none;\n",
              "      border-radius: 50%;\n",
              "      cursor: pointer;\n",
              "      display: none;\n",
              "      fill: #1967D2;\n",
              "      height: 32px;\n",
              "      padding: 0 0 0 0;\n",
              "      width: 32px;\n",
              "    }\n",
              "\n",
              "    .colab-df-convert:hover {\n",
              "      background-color: #E2EBFA;\n",
              "      box-shadow: 0px 1px 2px rgba(60, 64, 67, 0.3), 0px 1px 3px 1px rgba(60, 64, 67, 0.15);\n",
              "      fill: #174EA6;\n",
              "    }\n",
              "\n",
              "    [theme=dark] .colab-df-convert {\n",
              "      background-color: #3B4455;\n",
              "      fill: #D2E3FC;\n",
              "    }\n",
              "\n",
              "    [theme=dark] .colab-df-convert:hover {\n",
              "      background-color: #434B5C;\n",
              "      box-shadow: 0px 1px 3px 1px rgba(0, 0, 0, 0.15);\n",
              "      filter: drop-shadow(0px 1px 2px rgba(0, 0, 0, 0.3));\n",
              "      fill: #FFFFFF;\n",
              "    }\n",
              "  </style>\n",
              "\n",
              "      <script>\n",
              "        const buttonEl =\n",
              "          document.querySelector('#df-2c6f3d39-5fc9-4bdc-bc89-d8d5caf40eb2 button.colab-df-convert');\n",
              "        buttonEl.style.display =\n",
              "          google.colab.kernel.accessAllowed ? 'block' : 'none';\n",
              "\n",
              "        async function convertToInteractive(key) {\n",
              "          const element = document.querySelector('#df-2c6f3d39-5fc9-4bdc-bc89-d8d5caf40eb2');\n",
              "          const dataTable =\n",
              "            await google.colab.kernel.invokeFunction('convertToInteractive',\n",
              "                                                     [key], {});\n",
              "          if (!dataTable) return;\n",
              "\n",
              "          const docLinkHtml = 'Like what you see? Visit the ' +\n",
              "            '<a target=\"_blank\" href=https://colab.research.google.com/notebooks/data_table.ipynb>data table notebook</a>'\n",
              "            + ' to learn more about interactive tables.';\n",
              "          element.innerHTML = '';\n",
              "          dataTable['output_type'] = 'display_data';\n",
              "          await google.colab.output.renderOutput(dataTable, element);\n",
              "          const docLink = document.createElement('div');\n",
              "          docLink.innerHTML = docLinkHtml;\n",
              "          element.appendChild(docLink);\n",
              "        }\n",
              "      </script>\n",
              "    </div>\n",
              "  </div>\n",
              "  "
            ]
          },
          "metadata": {},
          "execution_count": 14
        }
      ]
    },
    {
      "cell_type": "code",
      "source": [
        "df_cleaned_train['entailment'] = df_cleaned_train.entailment.replace({'None': 0, 'Entailment': 1})\n",
        "df_cleaned_train"
      ],
      "metadata": {
        "colab": {
          "base_uri": "https://localhost:8080/",
          "height": 424
        },
        "id": "0aUghhD0b3_6",
        "outputId": "0374db96-84e9-4595-df06-f09f1b9d4c71"
      },
      "execution_count": 15,
      "outputs": [
        {
          "output_type": "execute_result",
          "data": {
            "text/plain": [
              "      entailment                                                  t  \\\n",
              "0              1  uma criança risonha está segurando uma pistola...   \n",
              "1              1  os homens estão cuidadosamente colocando as ma...   \n",
              "2              1  uma pessoa tem cabelo loiro e esvoaçante e est...   \n",
              "3              1          batatas estão sendo fatiadas por um homem   \n",
              "4              1     um caminhão está descendo rapidamente um morro   \n",
              "...          ...                                                ...   \n",
              "6495           0    um homem está apaixonadamente tocando um violão   \n",
              "6496           0  um pimentão está sendo cortado em pedaços por ...   \n",
              "6497           0  um cachorro , que é preto , e um branco estão ...   \n",
              "6498           0             alguns animais estão brincando na água   \n",
              "6499           0  a bola de futebol está entre os pés de um meni...   \n",
              "\n",
              "                                                      h  \n",
              "0        uma criança está segurando uma pistola de água  \n",
              "1     os homens estão colocando bagagens dentro do p...  \n",
              "2          um guitarrista tem cabelo loiro e esvoaçante  \n",
              "3                        o homem está fatiando a batata  \n",
              "4         um caminhão está rapidamente descendo o morro  \n",
              "...                                                 ...  \n",
              "6495                  um homem está guardando um violão  \n",
              "6496  a pessoa está fatiando um dente de alho em ped...  \n",
              "6497  um cachorro , que é preto , e um branco estão ...  \n",
              "6498  um jogador de pingue-pongue encontra-se com du...  \n",
              "6499  não tem nenhuma criança pequena jogando futebo...  \n",
              "\n",
              "[6500 rows x 3 columns]"
            ],
            "text/html": [
              "\n",
              "  <div id=\"df-bbed3522-d122-4131-9822-0f9ca36e6d42\">\n",
              "    <div class=\"colab-df-container\">\n",
              "      <div>\n",
              "<style scoped>\n",
              "    .dataframe tbody tr th:only-of-type {\n",
              "        vertical-align: middle;\n",
              "    }\n",
              "\n",
              "    .dataframe tbody tr th {\n",
              "        vertical-align: top;\n",
              "    }\n",
              "\n",
              "    .dataframe thead th {\n",
              "        text-align: right;\n",
              "    }\n",
              "</style>\n",
              "<table border=\"1\" class=\"dataframe\">\n",
              "  <thead>\n",
              "    <tr style=\"text-align: right;\">\n",
              "      <th></th>\n",
              "      <th>entailment</th>\n",
              "      <th>t</th>\n",
              "      <th>h</th>\n",
              "    </tr>\n",
              "  </thead>\n",
              "  <tbody>\n",
              "    <tr>\n",
              "      <th>0</th>\n",
              "      <td>1</td>\n",
              "      <td>uma criança risonha está segurando uma pistola...</td>\n",
              "      <td>uma criança está segurando uma pistola de água</td>\n",
              "    </tr>\n",
              "    <tr>\n",
              "      <th>1</th>\n",
              "      <td>1</td>\n",
              "      <td>os homens estão cuidadosamente colocando as ma...</td>\n",
              "      <td>os homens estão colocando bagagens dentro do p...</td>\n",
              "    </tr>\n",
              "    <tr>\n",
              "      <th>2</th>\n",
              "      <td>1</td>\n",
              "      <td>uma pessoa tem cabelo loiro e esvoaçante e est...</td>\n",
              "      <td>um guitarrista tem cabelo loiro e esvoaçante</td>\n",
              "    </tr>\n",
              "    <tr>\n",
              "      <th>3</th>\n",
              "      <td>1</td>\n",
              "      <td>batatas estão sendo fatiadas por um homem</td>\n",
              "      <td>o homem está fatiando a batata</td>\n",
              "    </tr>\n",
              "    <tr>\n",
              "      <th>4</th>\n",
              "      <td>1</td>\n",
              "      <td>um caminhão está descendo rapidamente um morro</td>\n",
              "      <td>um caminhão está rapidamente descendo o morro</td>\n",
              "    </tr>\n",
              "    <tr>\n",
              "      <th>...</th>\n",
              "      <td>...</td>\n",
              "      <td>...</td>\n",
              "      <td>...</td>\n",
              "    </tr>\n",
              "    <tr>\n",
              "      <th>6495</th>\n",
              "      <td>0</td>\n",
              "      <td>um homem está apaixonadamente tocando um violão</td>\n",
              "      <td>um homem está guardando um violão</td>\n",
              "    </tr>\n",
              "    <tr>\n",
              "      <th>6496</th>\n",
              "      <td>0</td>\n",
              "      <td>um pimentão está sendo cortado em pedaços por ...</td>\n",
              "      <td>a pessoa está fatiando um dente de alho em ped...</td>\n",
              "    </tr>\n",
              "    <tr>\n",
              "      <th>6497</th>\n",
              "      <td>0</td>\n",
              "      <td>um cachorro , que é preto , e um branco estão ...</td>\n",
              "      <td>um cachorro , que é preto , e um branco estão ...</td>\n",
              "    </tr>\n",
              "    <tr>\n",
              "      <th>6498</th>\n",
              "      <td>0</td>\n",
              "      <td>alguns animais estão brincando na água</td>\n",
              "      <td>um jogador de pingue-pongue encontra-se com du...</td>\n",
              "    </tr>\n",
              "    <tr>\n",
              "      <th>6499</th>\n",
              "      <td>0</td>\n",
              "      <td>a bola de futebol está entre os pés de um meni...</td>\n",
              "      <td>não tem nenhuma criança pequena jogando futebo...</td>\n",
              "    </tr>\n",
              "  </tbody>\n",
              "</table>\n",
              "<p>6500 rows × 3 columns</p>\n",
              "</div>\n",
              "      <button class=\"colab-df-convert\" onclick=\"convertToInteractive('df-bbed3522-d122-4131-9822-0f9ca36e6d42')\"\n",
              "              title=\"Convert this dataframe to an interactive table.\"\n",
              "              style=\"display:none;\">\n",
              "        \n",
              "  <svg xmlns=\"http://www.w3.org/2000/svg\" height=\"24px\"viewBox=\"0 0 24 24\"\n",
              "       width=\"24px\">\n",
              "    <path d=\"M0 0h24v24H0V0z\" fill=\"none\"/>\n",
              "    <path d=\"M18.56 5.44l.94 2.06.94-2.06 2.06-.94-2.06-.94-.94-2.06-.94 2.06-2.06.94zm-11 1L8.5 8.5l.94-2.06 2.06-.94-2.06-.94L8.5 2.5l-.94 2.06-2.06.94zm10 10l.94 2.06.94-2.06 2.06-.94-2.06-.94-.94-2.06-.94 2.06-2.06.94z\"/><path d=\"M17.41 7.96l-1.37-1.37c-.4-.4-.92-.59-1.43-.59-.52 0-1.04.2-1.43.59L10.3 9.45l-7.72 7.72c-.78.78-.78 2.05 0 2.83L4 21.41c.39.39.9.59 1.41.59.51 0 1.02-.2 1.41-.59l7.78-7.78 2.81-2.81c.8-.78.8-2.07 0-2.86zM5.41 20L4 18.59l7.72-7.72 1.47 1.35L5.41 20z\"/>\n",
              "  </svg>\n",
              "      </button>\n",
              "      \n",
              "  <style>\n",
              "    .colab-df-container {\n",
              "      display:flex;\n",
              "      flex-wrap:wrap;\n",
              "      gap: 12px;\n",
              "    }\n",
              "\n",
              "    .colab-df-convert {\n",
              "      background-color: #E8F0FE;\n",
              "      border: none;\n",
              "      border-radius: 50%;\n",
              "      cursor: pointer;\n",
              "      display: none;\n",
              "      fill: #1967D2;\n",
              "      height: 32px;\n",
              "      padding: 0 0 0 0;\n",
              "      width: 32px;\n",
              "    }\n",
              "\n",
              "    .colab-df-convert:hover {\n",
              "      background-color: #E2EBFA;\n",
              "      box-shadow: 0px 1px 2px rgba(60, 64, 67, 0.3), 0px 1px 3px 1px rgba(60, 64, 67, 0.15);\n",
              "      fill: #174EA6;\n",
              "    }\n",
              "\n",
              "    [theme=dark] .colab-df-convert {\n",
              "      background-color: #3B4455;\n",
              "      fill: #D2E3FC;\n",
              "    }\n",
              "\n",
              "    [theme=dark] .colab-df-convert:hover {\n",
              "      background-color: #434B5C;\n",
              "      box-shadow: 0px 1px 3px 1px rgba(0, 0, 0, 0.15);\n",
              "      filter: drop-shadow(0px 1px 2px rgba(0, 0, 0, 0.3));\n",
              "      fill: #FFFFFF;\n",
              "    }\n",
              "  </style>\n",
              "\n",
              "      <script>\n",
              "        const buttonEl =\n",
              "          document.querySelector('#df-bbed3522-d122-4131-9822-0f9ca36e6d42 button.colab-df-convert');\n",
              "        buttonEl.style.display =\n",
              "          google.colab.kernel.accessAllowed ? 'block' : 'none';\n",
              "\n",
              "        async function convertToInteractive(key) {\n",
              "          const element = document.querySelector('#df-bbed3522-d122-4131-9822-0f9ca36e6d42');\n",
              "          const dataTable =\n",
              "            await google.colab.kernel.invokeFunction('convertToInteractive',\n",
              "                                                     [key], {});\n",
              "          if (!dataTable) return;\n",
              "\n",
              "          const docLinkHtml = 'Like what you see? Visit the ' +\n",
              "            '<a target=\"_blank\" href=https://colab.research.google.com/notebooks/data_table.ipynb>data table notebook</a>'\n",
              "            + ' to learn more about interactive tables.';\n",
              "          element.innerHTML = '';\n",
              "          dataTable['output_type'] = 'display_data';\n",
              "          await google.colab.output.renderOutput(dataTable, element);\n",
              "          const docLink = document.createElement('div');\n",
              "          docLink.innerHTML = docLinkHtml;\n",
              "          element.appendChild(docLink);\n",
              "        }\n",
              "      </script>\n",
              "    </div>\n",
              "  </div>\n",
              "  "
            ]
          },
          "metadata": {},
          "execution_count": 15
        }
      ]
    },
    {
      "cell_type": "code",
      "source": [
        "from keras.utils import to_categorical\n",
        "y_train = to_categorical(df_cleaned_train.entailment.values)"
      ],
      "metadata": {
        "id": "V74p0WgncNIM"
      },
      "execution_count": 16,
      "outputs": []
    },
    {
      "cell_type": "code",
      "source": [
        "df_val['entailment'] = df_val.entailment.replace({'None': 0, 'Entailment': 1})\n",
        "df_test['entailment'] = df_test.entailment.replace({'None': 0, 'Entailment': 1})"
      ],
      "metadata": {
        "id": "PfE1AfSH4SjI"
      },
      "execution_count": 17,
      "outputs": []
    },
    {
      "cell_type": "code",
      "source": [
        "y_test = to_categorical(df_test.entailment.values)\n",
        "y_val = to_categorical(df_val.entailment.values)"
      ],
      "metadata": {
        "id": "I4Omdpez4L9d"
      },
      "execution_count": 18,
      "outputs": []
    },
    {
      "cell_type": "code",
      "source": [
        "from keras.preprocessing.text import Tokenizer"
      ],
      "metadata": {
        "id": "UQsols7IciUy"
      },
      "execution_count": 19,
      "outputs": []
    },
    {
      "cell_type": "code",
      "source": [
        "df_cleaned_train['sentence'] = df_cleaned_train['t'] + ' [SEP] ' + df_cleaned_train['h']\n",
        "df_val['sentence'] = df_val['t'] + ' [SEP] ' + df_val['h']\n",
        "df_test['sentence'] = df_test['t'] + ' [SEP] ' + df_test['h']"
      ],
      "metadata": {
        "id": "zwNGPj2Ntc2Z"
      },
      "execution_count": 20,
      "outputs": []
    },
    {
      "cell_type": "code",
      "source": [
        "num_words = 10000\n",
        "tokenizer = Tokenizer(num_words, lower=True)\n",
        "df_total = pd.concat([df_cleaned_train.sentence, df_val.sentence], axis=0)\n",
        "# df_total.head()\n",
        "tokenizer.fit_on_texts(df_total)"
      ],
      "metadata": {
        "id": "p_tyCGnosRfe"
      },
      "execution_count": 21,
      "outputs": []
    },
    {
      "cell_type": "code",
      "source": [
        "df_cleaned_train['sentence'].str.split().str.len().max()"
      ],
      "metadata": {
        "colab": {
          "base_uri": "https://localhost:8080/"
        },
        "id": "n5TLDTQ2v5Q-",
        "outputId": "1646afbe-5214-4e3f-d69e-d383435405b8"
      },
      "execution_count": 63,
      "outputs": [
        {
          "output_type": "execute_result",
          "data": {
            "text/plain": [
              "60"
            ]
          },
          "metadata": {},
          "execution_count": 63
        }
      ]
    },
    {
      "cell_type": "code",
      "source": [
        "from keras.utils import pad_sequences"
      ],
      "metadata": {
        "id": "YUIvoolNtQvz"
      },
      "execution_count": 22,
      "outputs": []
    },
    {
      "cell_type": "code",
      "source": [
        "X_train = tokenizer.texts_to_sequences(df_cleaned_train['sentence'])\n",
        "X_train_pad = pad_sequences(X_train, maxlen=75, padding='post')\n",
        "X_test = tokenizer.texts_to_sequences(df_test.sentence)\n",
        "X_test_pad = pad_sequences(X_test, maxlen = 75, padding = 'post')\n",
        "X_val = tokenizer.texts_to_sequences(df_val.sentence)\n",
        "X_val_pad = pad_sequences(X_val, maxlen = 75, padding = 'post')"
      ],
      "metadata": {
        "id": "oHgJgTyLvpVj"
      },
      "execution_count": 23,
      "outputs": []
    },
    {
      "cell_type": "code",
      "source": [
        "import numpy as np"
      ],
      "metadata": {
        "id": "D2Gr54t_y0af"
      },
      "execution_count": 24,
      "outputs": []
    },
    {
      "cell_type": "code",
      "source": [
        "vector_size = 50\n",
        "gensim_weight_matrix = np.zeros((num_words, vector_size))\n",
        "gensim_weight_matrix.shape\n",
        "for word, index in tokenizer.word_index.items():\n",
        "    if index < num_words: # since index starts with zero \n",
        "        if word in gensim_vectors:\n",
        "            gensim_weight_matrix[index] = gensim_vectors[word]\n",
        "        else:\n",
        "            gensim_weight_matrix[index] = np.zeros(50)"
      ],
      "metadata": {
        "id": "RN49f9CKyYlD"
      },
      "execution_count": 25,
      "outputs": []
    },
    {
      "cell_type": "code",
      "source": [
        "from tensorflow.keras.models import Sequential \n",
        "from tensorflow.keras.layers import Dense, LSTM, Embedding,Bidirectional\n",
        "import tensorflow\n",
        "from tensorflow.compat.v1.keras.layers import CuDNNLSTM\n",
        "from tensorflow.keras.layers import Dropout"
      ],
      "metadata": {
        "id": "insABXf5y_-M"
      },
      "execution_count": 26,
      "outputs": []
    },
    {
      "cell_type": "code",
      "source": [
        "EMBEDDING_DIM = 50\n",
        "class_num = 2"
      ],
      "metadata": {
        "id": "m1WBO9a33qqk"
      },
      "execution_count": 27,
      "outputs": []
    },
    {
      "cell_type": "code",
      "source": [
        "model = Sequential()\n",
        "model.add(Embedding(input_dim = num_words,\n",
        "    output_dim = EMBEDDING_DIM,\n",
        "    input_length= X_train_pad.shape[1],\n",
        "    weights = [gensim_weight_matrix], trainable = False))\n",
        "model.add(Dropout(0.2))\n",
        "model.add(Bidirectional(CuDNNLSTM(100, return_sequences=True)))\n",
        "model.add(Dropout(0.2))\n",
        "model.add(Bidirectional(CuDNNLSTM(200, return_sequences=True)))\n",
        "model.add(Dropout(0.2))\n",
        "model.add(Bidirectional(CuDNNLSTM(100, return_sequences=False)))\n",
        "model.add(Dense(class_num, activation = 'softmax'))\n",
        "model.compile(loss = 'categorical_crossentropy', optimizer = 'adam', metrics = 'accuracy')"
      ],
      "metadata": {
        "id": "z5V-copYzdON"
      },
      "execution_count": 28,
      "outputs": []
    },
    {
      "cell_type": "code",
      "source": [
        "from keras.callbacks import EarlyStopping, ModelCheckpoint\n",
        "es = EarlyStopping(monitor = 'val_loss', mode = 'min', verbose = 1, patience = 5)\n",
        "mc = ModelCheckpoint('./model.h5', monitor = 'val_accuracy', mode = 'max', verbose = 1, save_best_only = True)"
      ],
      "metadata": {
        "id": "fO-Wt5Wv394m"
      },
      "execution_count": 29,
      "outputs": []
    },
    {
      "cell_type": "code",
      "source": [
        "history_embedding = model.fit(X_train_pad, y_train, \n",
        "                                epochs = 25, batch_size = 120, \n",
        "                                validation_data=(X_val_pad, y_val),\n",
        "                                verbose = 1, callbacks= [es, mc]  )"
      ],
      "metadata": {
        "colab": {
          "base_uri": "https://localhost:8080/"
        },
        "id": "0_VZAsj94DZW",
        "outputId": "6271596f-5757-410e-de23-22e86b6541ab"
      },
      "execution_count": 30,
      "outputs": [
        {
          "output_type": "stream",
          "name": "stdout",
          "text": [
            "Epoch 1/25\n",
            "55/55 [==============================] - ETA: 0s - loss: 0.6328 - accuracy: 0.6131\n",
            "Epoch 1: val_accuracy improved from -inf to 0.67400, saving model to ./model.h5\n",
            "55/55 [==============================] - 16s 65ms/step - loss: 0.6328 - accuracy: 0.6131 - val_loss: 0.5507 - val_accuracy: 0.6740\n",
            "Epoch 2/25\n",
            "55/55 [==============================] - ETA: 0s - loss: 0.5779 - accuracy: 0.6615\n",
            "Epoch 2: val_accuracy improved from 0.67400 to 0.73000, saving model to ./model.h5\n",
            "55/55 [==============================] - 2s 43ms/step - loss: 0.5779 - accuracy: 0.6615 - val_loss: 0.5167 - val_accuracy: 0.7300\n",
            "Epoch 3/25\n",
            "55/55 [==============================] - ETA: 0s - loss: 0.5435 - accuracy: 0.6986\n",
            "Epoch 3: val_accuracy did not improve from 0.73000\n",
            "55/55 [==============================] - 2s 41ms/step - loss: 0.5435 - accuracy: 0.6986 - val_loss: 0.5341 - val_accuracy: 0.7120\n",
            "Epoch 4/25\n",
            "55/55 [==============================] - ETA: 0s - loss: 0.5306 - accuracy: 0.7171\n",
            "Epoch 4: val_accuracy improved from 0.73000 to 0.74000, saving model to ./model.h5\n",
            "55/55 [==============================] - 2s 43ms/step - loss: 0.5306 - accuracy: 0.7171 - val_loss: 0.4994 - val_accuracy: 0.7400\n",
            "Epoch 5/25\n",
            "55/55 [==============================] - ETA: 0s - loss: 0.5206 - accuracy: 0.7183\n",
            "Epoch 5: val_accuracy did not improve from 0.74000\n",
            "55/55 [==============================] - 2s 43ms/step - loss: 0.5206 - accuracy: 0.7183 - val_loss: 0.4912 - val_accuracy: 0.7340\n",
            "Epoch 6/25\n",
            "55/55 [==============================] - ETA: 0s - loss: 0.4905 - accuracy: 0.7397\n",
            "Epoch 6: val_accuracy did not improve from 0.74000\n",
            "55/55 [==============================] - 2s 45ms/step - loss: 0.4905 - accuracy: 0.7397 - val_loss: 0.4900 - val_accuracy: 0.7360\n",
            "Epoch 7/25\n",
            "55/55 [==============================] - ETA: 0s - loss: 0.4723 - accuracy: 0.7566\n",
            "Epoch 7: val_accuracy improved from 0.74000 to 0.79400, saving model to ./model.h5\n",
            "55/55 [==============================] - 2s 44ms/step - loss: 0.4723 - accuracy: 0.7566 - val_loss: 0.4567 - val_accuracy: 0.7940\n",
            "Epoch 8/25\n",
            "55/55 [==============================] - ETA: 0s - loss: 0.4546 - accuracy: 0.7712\n",
            "Epoch 8: val_accuracy did not improve from 0.79400\n",
            "55/55 [==============================] - 2s 42ms/step - loss: 0.4546 - accuracy: 0.7712 - val_loss: 0.4528 - val_accuracy: 0.7620\n",
            "Epoch 9/25\n",
            "55/55 [==============================] - ETA: 0s - loss: 0.4462 - accuracy: 0.7758\n",
            "Epoch 9: val_accuracy did not improve from 0.79400\n",
            "55/55 [==============================] - 2s 42ms/step - loss: 0.4462 - accuracy: 0.7758 - val_loss: 0.4529 - val_accuracy: 0.7820\n",
            "Epoch 10/25\n",
            "55/55 [==============================] - ETA: 0s - loss: 0.4118 - accuracy: 0.8014\n",
            "Epoch 10: val_accuracy did not improve from 0.79400\n",
            "55/55 [==============================] - 2s 42ms/step - loss: 0.4118 - accuracy: 0.8014 - val_loss: 0.4350 - val_accuracy: 0.7900\n",
            "Epoch 11/25\n",
            "55/55 [==============================] - ETA: 0s - loss: 0.3937 - accuracy: 0.8137\n",
            "Epoch 11: val_accuracy did not improve from 0.79400\n",
            "55/55 [==============================] - 2s 45ms/step - loss: 0.3937 - accuracy: 0.8137 - val_loss: 0.4134 - val_accuracy: 0.7920\n",
            "Epoch 12/25\n",
            "55/55 [==============================] - ETA: 0s - loss: 0.3683 - accuracy: 0.8314\n",
            "Epoch 12: val_accuracy did not improve from 0.79400\n",
            "55/55 [==============================] - 2s 42ms/step - loss: 0.3683 - accuracy: 0.8314 - val_loss: 0.4347 - val_accuracy: 0.7820\n",
            "Epoch 13/25\n",
            "55/55 [==============================] - ETA: 0s - loss: 0.3718 - accuracy: 0.8252\n",
            "Epoch 13: val_accuracy did not improve from 0.79400\n",
            "55/55 [==============================] - 2s 42ms/step - loss: 0.3718 - accuracy: 0.8252 - val_loss: 0.4403 - val_accuracy: 0.7940\n",
            "Epoch 14/25\n",
            "55/55 [==============================] - ETA: 0s - loss: 0.3523 - accuracy: 0.8368\n",
            "Epoch 14: val_accuracy improved from 0.79400 to 0.80600, saving model to ./model.h5\n",
            "55/55 [==============================] - 2s 45ms/step - loss: 0.3523 - accuracy: 0.8368 - val_loss: 0.4284 - val_accuracy: 0.8060\n",
            "Epoch 15/25\n",
            "55/55 [==============================] - ETA: 0s - loss: 0.3162 - accuracy: 0.8571\n",
            "Epoch 15: val_accuracy did not improve from 0.80600\n",
            "55/55 [==============================] - 2s 42ms/step - loss: 0.3162 - accuracy: 0.8571 - val_loss: 0.4568 - val_accuracy: 0.7960\n",
            "Epoch 16/25\n",
            "55/55 [==============================] - ETA: 0s - loss: 0.3039 - accuracy: 0.8638\n",
            "Epoch 16: val_accuracy did not improve from 0.80600\n",
            "55/55 [==============================] - 2s 43ms/step - loss: 0.3039 - accuracy: 0.8638 - val_loss: 0.4074 - val_accuracy: 0.7980\n",
            "Epoch 17/25\n",
            "55/55 [==============================] - ETA: 0s - loss: 0.2859 - accuracy: 0.8714\n",
            "Epoch 17: val_accuracy did not improve from 0.80600\n",
            "55/55 [==============================] - 2s 44ms/step - loss: 0.2859 - accuracy: 0.8714 - val_loss: 0.4187 - val_accuracy: 0.8020\n",
            "Epoch 18/25\n",
            "55/55 [==============================] - ETA: 0s - loss: 0.2760 - accuracy: 0.8797\n",
            "Epoch 18: val_accuracy improved from 0.80600 to 0.80800, saving model to ./model.h5\n",
            "55/55 [==============================] - 2s 43ms/step - loss: 0.2760 - accuracy: 0.8797 - val_loss: 0.4138 - val_accuracy: 0.8080\n",
            "Epoch 19/25\n",
            "55/55 [==============================] - ETA: 0s - loss: 0.2612 - accuracy: 0.8849\n",
            "Epoch 19: val_accuracy improved from 0.80800 to 0.83800, saving model to ./model.h5\n",
            "55/55 [==============================] - 2s 45ms/step - loss: 0.2612 - accuracy: 0.8849 - val_loss: 0.3939 - val_accuracy: 0.8380\n",
            "Epoch 20/25\n",
            "55/55 [==============================] - ETA: 0s - loss: 0.2574 - accuracy: 0.8886\n",
            "Epoch 20: val_accuracy did not improve from 0.83800\n",
            "55/55 [==============================] - 2s 42ms/step - loss: 0.2574 - accuracy: 0.8886 - val_loss: 0.3809 - val_accuracy: 0.8260\n",
            "Epoch 21/25\n",
            "55/55 [==============================] - ETA: 0s - loss: 0.2169 - accuracy: 0.9111\n",
            "Epoch 21: val_accuracy did not improve from 0.83800\n",
            "55/55 [==============================] - 2s 44ms/step - loss: 0.2169 - accuracy: 0.9111 - val_loss: 0.4771 - val_accuracy: 0.8120\n",
            "Epoch 22/25\n",
            "55/55 [==============================] - ETA: 0s - loss: 0.2226 - accuracy: 0.9037\n",
            "Epoch 22: val_accuracy did not improve from 0.83800\n",
            "55/55 [==============================] - 2s 45ms/step - loss: 0.2226 - accuracy: 0.9037 - val_loss: 0.4179 - val_accuracy: 0.8320\n",
            "Epoch 23/25\n",
            "55/55 [==============================] - ETA: 0s - loss: 0.2153 - accuracy: 0.9083\n",
            "Epoch 23: val_accuracy did not improve from 0.83800\n",
            "55/55 [==============================] - 2s 43ms/step - loss: 0.2153 - accuracy: 0.9083 - val_loss: 0.4387 - val_accuracy: 0.8200\n",
            "Epoch 24/25\n",
            "55/55 [==============================] - ETA: 0s - loss: 0.2020 - accuracy: 0.9169\n",
            "Epoch 24: val_accuracy did not improve from 0.83800\n",
            "55/55 [==============================] - 2s 43ms/step - loss: 0.2020 - accuracy: 0.9169 - val_loss: 0.3992 - val_accuracy: 0.8360\n",
            "Epoch 25/25\n",
            "55/55 [==============================] - ETA: 0s - loss: 0.2052 - accuracy: 0.9126\n",
            "Epoch 25: val_accuracy did not improve from 0.83800\n",
            "55/55 [==============================] - 2s 43ms/step - loss: 0.2052 - accuracy: 0.9126 - val_loss: 0.3957 - val_accuracy: 0.8380\n",
            "Epoch 25: early stopping\n"
          ]
        }
      ]
    },
    {
      "cell_type": "code",
      "source": [
        "import matplotlib.pyplot as plt"
      ],
      "metadata": {
        "id": "Zd2UVwHQ594w"
      },
      "execution_count": 32,
      "outputs": []
    },
    {
      "cell_type": "code",
      "source": [
        "plt.plot(history_embedding.history['accuracy'],c='b',label='train accuracy')\n",
        "plt.plot(history_embedding.history['val_accuracy'],c='r',label='validation accuracy')\n",
        "plt.legend(loc='lower right')\n",
        "plt.show()"
      ],
      "metadata": {
        "colab": {
          "base_uri": "https://localhost:8080/",
          "height": 430
        },
        "id": "1hQfMSKj4ZjX",
        "outputId": "53e29716-1f9a-4ffe-bfcc-1952ac189c0e"
      },
      "execution_count": 33,
      "outputs": [
        {
          "output_type": "display_data",
          "data": {
            "text/plain": [
              "<Figure size 640x480 with 1 Axes>"
            ],
            "image/png": "[encoded data removed]"
          },
          "metadata": {}
        }
      ]
    },
    {
      "cell_type": "code",
      "source": [
        "from sklearn import metrics"
      ],
      "metadata": {
        "id": "GGtwQEXq6IRe"
      },
      "execution_count": 34,
      "outputs": []
    },
    {
      "cell_type": "code",
      "source": [
        "y_pred =  np.argmax(model.predict(X_test_pad), axis = 1)\n",
        "y_true = np.argmax(y_test, axis = 1)\n",
        "print(metrics.classification_report(y_pred, y_true))"
      ],
      "metadata": {
        "colab": {
          "base_uri": "https://localhost:8080/"
        },
        "id": "tYWtNiqz59NV",
        "outputId": "dfd33b52-7228-4251-db2c-51824236d54b"
      },
      "execution_count": 35,
      "outputs": [
        {
          "output_type": "stream",
          "name": "stdout",
          "text": [
            "77/77 [==============================] - 2s 10ms/step\n",
            "              precision    recall  f1-score   support\n",
            "\n",
            "           0       0.53      0.80      0.64       813\n",
            "           1       0.87      0.65      0.74      1635\n",
            "\n",
            "    accuracy                           0.70      2448\n",
            "   macro avg       0.70      0.73      0.69      2448\n",
            "weighted avg       0.76      0.70      0.71      2448\n",
            "\n"
          ]
        }
      ]
    },
    {
      "cell_type": "code",
      "source": [],
      "metadata": {
        "id": "-r4wjIVk6Qh5"
      },
      "execution_count": null,
      "outputs": []
    }
  ]
}