{
 "cells": [
  {
   "cell_type": "code",
   "execution_count": 1,
   "metadata": {},
   "outputs": [],
   "source": [
    "import numpy as np\n",
    "import xml.etree.ElementTree as et"
   ]
  },
  {
   "cell_type": "code",
   "execution_count": 3,
   "metadata": {},
   "outputs": [],
   "source": [
    "xml_root = et.parse('data/assin2-train.xml').getroot()"
   ]
  },
  {
   "cell_type": "code",
   "execution_count": 8,
   "metadata": {},
   "outputs": [],
   "source": [
    "def getEntailmentCorpusPair(root, i):\n",
    "    e = {}\n",
    "    e['entailment'] = root[i].attrib['entailment'] == 'Entaiment'\n",
    "    e['similarity'] = float(root[i].attrib['similarity'])\n",
    "    e['t'] = root[i][0].text  # root[i][0] access the param \"t\" of pair element in xml\n",
    "    e['h'] = root[i][1].text  # root[i][1] access the param \"h\" of pair element in xml\n",
    "    return e"
   ]
  },
  {
   "cell_type": "code",
   "execution_count": 9,
   "metadata": {},
   "outputs": [
    {
     "data": {
      "text/plain": [
       "{'entailment': False,\n",
       " 'similarity': 5.0,\n",
       " 't': 'Um menino e uma menina estão brincando do lado de fora da academia',\n",
       " 'h': 'O menino e a menina estão brincando na academia ao ar livre'}"
      ]
     },
     "execution_count": 9,
     "metadata": {},
     "output_type": "execute_result"
    }
   ],
   "source": [
    "getEntailmentCorpusPair(xml_root, 10)"
   ]
  }
 ],
 "metadata": {
  "kernelspec": {
   "display_name": "base",
   "language": "python",
   "name": "python3"
  },
  "language_info": {
   "codemirror_mode": {
    "name": "ipython",
    "version": 3
   },
   "file_extension": ".py",
   "mimetype": "text/x-python",
   "name": "python",
   "nbconvert_exporter": "python",
   "pygments_lexer": "ipython3",
   "version": "3.9.7"
  },
  "orig_nbformat": 4
 },
 "nbformat": 4,
 "nbformat_minor": 2
}
